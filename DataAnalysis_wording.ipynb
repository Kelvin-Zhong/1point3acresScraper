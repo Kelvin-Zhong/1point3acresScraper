{
 "cells": [
  {
   "cell_type": "code",
   "execution_count": 267,
   "metadata": {},
   "outputs": [],
   "source": [
    "import copy\n",
    "%run FileManager.ipynb\n",
    "%run DataAnalysisHelper.ipynb\n",
    "\n",
    "file_manager = FileManager()\n",
    "posts_data = file_manager.readFromFile('posts_data')\n",
    "data_helper = DataAnalysisHelper()"
   ]
  },
  {
   "cell_type": "code",
   "execution_count": 268,
   "metadata": {},
   "outputs": [
    {
     "name": "stdout",
     "output_type": "stream",
     "text": [
      "216 100 116\n"
     ]
    }
   ],
   "source": [
    "targetGirlsPostData = []\n",
    "targetBoysPostData = []\n",
    "for post_data in posts_data:\n",
    "    if post_data['target_gender'] == 'Male':\n",
    "        targetBoysPostData.append(post_data)\n",
    "    else:\n",
    "        targetGirlsPostData.append(post_data)\n",
    "print(len(posts_data), len(targetGirlsPostData), len(targetBoysPostData))"
   ]
  },
  {
   "cell_type": "code",
   "execution_count": 269,
   "metadata": {},
   "outputs": [],
   "source": [
    "good_total_diff_words, bad_total_diff_words = data_helper.getTopTFIDFWordsForBothGoodAndBadPostDatas(posts_data)\n",
    "good_target_girl_diff_words, bad_target_girl_diff_words = data_helper.getTopTFIDFWordsForBothGoodAndBadPostDatas(targetGirlsPostData)\n",
    "good_target_boy_diff_words, bad_target_boy_diff_words = data_helper.getTopTFIDFWordsForBothGoodAndBadPostDatas(targetBoysPostData)\n"
   ]
  },
  {
   "cell_type": "code",
   "execution_count": 270,
   "metadata": {},
   "outputs": [],
   "source": [
    "girl_good = data_helper.wordsDiff(good_target_girl_diff_words, good_total_diff_words)\n",
    "girl_bad = data_helper.wordsDiff(bad_target_girl_diff_words, bad_total_diff_words)\n",
    "boy_good = data_helper.wordsDiff(good_target_boy_diff_words, good_total_diff_words)\n",
    "boy_bad = data_helper.wordsDiff(bad_target_boy_diff_words, bad_total_diff_words)"
   ]
  },
  {
   "cell_type": "code",
   "execution_count": 271,
   "metadata": {},
   "outputs": [
    {
     "name": "stdout",
     "output_type": "stream",
     "text": [
      "['帖子', '漫漫', '硅谷', '旧金山', '亲戚', '女孩子', '写', '爱', '祝福', '加入', '后', '美食', '孩子', '仔细', '湾区', '下', '独立', '觉得', '美好', '嘛', '今年', '加州', '读书', '领证', '删帖', '补充', '被动', '女朋友', '微腐', '蜡笔小新', '三观', '运动', '做', '稳重', '国籍', '得失', '阳光', '年龄', '带', '软', '喷', '想', '呀', '统计', '男生', '中意', '当时', '去', '男朋友', '硕士', '身份', '会', '工程师', '起来', '可爱', '青年', '基本', '继续', '颜值', '出生', '实习', '武汉', '新', '开心', '找对象', '相册', '在读', '开玩笑', '喜', '路人', '父母', '逼', '版', '信息', '不成', '说', '事情', '好友']\n"
     ]
    }
   ],
   "source": [
    "k = [x[0] for x in good_total_diff_words]\n",
    "print(k)"
   ]
  },
  {
   "cell_type": "code",
   "execution_count": 272,
   "metadata": {},
   "outputs": [
    {
     "name": "stdout",
     "output_type": "stream",
     "text": [
      "['匿名', '看大图', '登录', '啦', '抱团', '可', '阿', '求', '纽约', '谢谢', '宝宝', '活动', '妹子', '们', '少', '联系', '有没有', '坐标', '啊', '需要', '简单', '删', '黑夜', '台球', '绿卡', '请加', '要求', '地区', '有意', '公民', '眼缘', '高于', '浏览', '当前', '查看', '温哥华', '隐藏', '猫咪', '游客', '认识', '小伙伴', '车', '私信', '无聊', '热情', '多谢', '请', '毕业', '老师', '波士顿', '亚麻', '原谅', '让', '尝试', '个人', '账号', '买', '德州', '接受', '台湾人', '解决', '无', '不良嗜好', '来信', '运气', '小姐姐', '好看', '公司', '做起', '遇到', '希望', '条件', '最好', '撩', '貌似', '稳定', '中国', '健身']\n"
     ]
    }
   ],
   "source": [
    "w = [x[0] for x in bad_total_diff_words]\n",
    "print(w)简单"
   ]
  },
  {
   "cell_type": "code",
   "execution_count": 273,
   "metadata": {},
   "outputs": [
    {
     "name": "stdout",
     "output_type": "stream",
     "text": [
      "['出来', '看不顺眼', '品尝', '欣赏', '信', '事', '辛苦', '专一', '容易', '领略', '家庭', '潜水', '从事', '迁就', '是', '女友', '地方', '重要', '才能', '道理', '莫过于此', '游山玩水', '情况', '成为', '穿越', '来到', '话题', '房子', '没有', '幽默感', '不知不觉', '善良', '沉默', '一切都是', '风光', '钱', '乐观', '太平洋', '得知', '软件开发', '痛苦', '体验生活', '上传', '打乒乓球', '如愿', '感情', '聊', '鼓励', '某种程度', '家里', '自驾游', '相辅相成', '人生', '广告', '责任感', '明白']\n"
     ]
    }
   ],
   "source": [
    "w = [x for x in girl_good]\n",
    "print(w)"
   ]
  },
  {
   "cell_type": "code",
   "execution_count": 274,
   "metadata": {},
   "outputs": [
    {
     "name": "stdout",
     "output_type": "stream",
     "text": [
      "['比较慢', '限', '看', '过', '积分', '好', '有缘', '想', '忙', '湾区', '不在乎', '农村', '合适', '注册', '颜值', '身体健康', '只在乎', '运动', '志同道合', '实验室', '待人', '出去', '结识', '朋友', '微信', '天长地久', '专业', '真诚', '内容', '拿到', '诚心', '去']\n"
     ]
    }
   ],
   "source": [
    "w = [x for x in girl_bad]\n",
    "print(w)"
   ]
  },
  {
   "cell_type": "code",
   "execution_count": 275,
   "metadata": {},
   "outputs": [
    {
     "name": "stdout",
     "output_type": "stream",
     "text": [
      "['搬到', '自我介绍', '积分', '一般', '能够', '许愿', '大厂', '来自', '内向', '读', '成熟', '合适', '女', '女生', '楼主', '暑假', '追', '近', '大家', '找', '美国', '大', '找到', '合拍', '加', '留', '单身', '目前', '关注', '叫', '婚姻', '靠谱', '微信', '专业', '程序员', '内容']\n"
     ]
    }
   ],
   "source": [
    "w = [x for x in boy_good]\n",
    "print(w)"
   ]
  },
  {
   "cell_type": "code",
   "execution_count": 276,
   "metadata": {},
   "outputs": [
    {
     "name": "stdout",
     "output_type": "stream",
     "text": [
      "['交', '看', '包容', '作为', '旅行', '大学', '得', '交流', '家庭', '会计', '干净', '肯定', '聪明', '哈哈', '职业', '婚史', '诚意', '期待', '出去玩', '积极向上', '如', '偏瘦', '热爱生活', '女朋友', '男票', '爱好', '照顾', '善良', '时候', '共同进步', '外表', '乐观', '有趣', '呢', '笑', '月份', '算', '安静', '小', '看起来', '上海', '宅', '过去', '邮箱', '矛盾', '勿扰', '看书', '现在', '协会', '头像', '没', '选择', '交友', '努力']\n"
     ]
    }
   ],
   "source": [
    "w = [x for x in boy_bad]\n",
    "print(w)"
   ]
  }
 ],
 "metadata": {
  "kernelspec": {
   "display_name": "Python 3",
   "language": "python",
   "name": "python3"
  },
  "language_info": {
   "codemirror_mode": {
    "name": "ipython",
    "version": 3
   },
   "file_extension": ".py",
   "mimetype": "text/x-python",
   "name": "python",
   "nbconvert_exporter": "python",
   "pygments_lexer": "ipython3",
   "version": "3.6.3"
  }
 },
 "nbformat": 4,
 "nbformat_minor": 2
}
